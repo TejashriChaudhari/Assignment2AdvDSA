{
 "cells": [
  {
   "cell_type": "markdown",
   "id": "d5d911dc",
   "metadata": {},
   "source": [
    "Q.1.)Implement Binary Search"
   ]
  },
  {
   "cell_type": "code",
   "execution_count": 1,
   "id": "a9649a17",
   "metadata": {},
   "outputs": [
    {
     "data": {
      "text/plain": [
       "True"
      ]
     },
     "execution_count": 1,
     "metadata": {},
     "output_type": "execute_result"
    }
   ],
   "source": [
    "def binary_search(searchele,arr):\n",
    "    l=0\n",
    "    u=(n-1)\n",
    "    while l<=u:\n",
    "        mid=(l+u)//2 \n",
    "        if arr[mid]==searchele:\n",
    "            return True\n",
    "        else:\n",
    "            if arr[mid]<searchele:\n",
    "                l=mid+1\n",
    "            else:\n",
    "                u=mid-1\n",
    "                \n",
    "    return False\n",
    "arr=[2,3,56,78,90,110]\n",
    "n=len(arr)\n",
    "binary_search(110,arr)"
   ]
  },
  {
   "cell_type": "markdown",
   "id": "4b3f89f8",
   "metadata": {},
   "source": [
    "In Python, global keyword allows you to modify the variable outside of the current scope. It is used to create a global variable and make changes to the variable in a local context.(for my ref)"
   ]
  },
  {
   "cell_type": "code",
   "execution_count": 1,
   "id": "1d7a626c",
   "metadata": {},
   "outputs": [
    {
     "name": "stdout",
     "output_type": "stream",
     "text": [
      "Found at 6\n"
     ]
    }
   ],
   "source": [
    "pos=-1\n",
    "def binary_search(arr,n):\n",
    "    l=0\n",
    "    u=len(arr)-1\n",
    "    while l<=u:\n",
    "        mid=(l+u)//2 \n",
    "        if arr[mid]==n:\n",
    "            globals()[\"pos\"]=mid\n",
    "            return True\n",
    "        else:\n",
    "            if arr[mid]<n:\n",
    "                l=mid+1\n",
    "            else:\n",
    "                u=mid-1\n",
    "                \n",
    "    return False\n",
    "arr=[2,3,56,78,90,110]\n",
    "n=110\n",
    "\n",
    "if binary_search(arr,n):\n",
    "    print(\"Found at\",pos+1)\n",
    "else:\n",
    "    print(\"Not Found\")"
   ]
  },
  {
   "cell_type": "markdown",
   "id": "58ccb0de",
   "metadata": {},
   "source": [
    "Q.2.)Implement Merge Sort"
   ]
  },
  {
   "cell_type": "code",
   "execution_count": null,
   "id": "cd58fe37",
   "metadata": {},
   "outputs": [],
   "source": [
    "#something wrong in this code:::\n",
    "def merge_sort(arr):\n",
    "    left_arr=arr[:(n//2)]\n",
    "    #print(left_arr)\n",
    "    right_arr=arr[(n//2):]\n",
    "    #print(right_arr)\n",
    "    \n",
    "    merge_sort(left_arr)\n",
    "    merge_sort(right_arr)\n",
    "\n",
    "    i=0\n",
    "    j=0\n",
    "    k=0\n",
    "    while i<(n(left_arr)) and j<(n(right_arr)):\n",
    "        if left_arr[i]<right_arr[j]:\n",
    "            arr[k]=left_arr[i]\n",
    "            i+=1\n",
    "        else:\n",
    "            arr[k]=right_arr[j]\n",
    "            j+=1\n",
    "        k+=1\n",
    "    \n",
    "    while i<n(left_arr):\n",
    "        arr[k]=left_arr[i]\n",
    "        i+=1\n",
    "        k+=1\n",
    "        \n",
    "    while j<n(right_arr):\n",
    "        arr[k]=right_arr[j]\n",
    "        j+=1\n",
    "        k+=1\n",
    "        \n",
    "arr=[4,5,8,7,1,2,88,76]\n",
    "n=len(arr)\n",
    "merge_sort(arr)\n",
    "print(arr)  "
   ]
  },
  {
   "cell_type": "code",
   "execution_count": 8,
   "id": "c33bdfd4",
   "metadata": {},
   "outputs": [
    {
     "data": {
      "text/plain": [
       "[2, 3, 4, 5, 7, 8, 9, 10]"
      ]
     },
     "execution_count": 8,
     "metadata": {},
     "output_type": "execute_result"
    }
   ],
   "source": [
    "def merge_sort(left_arr,right_arr):\n",
    "    i=0 #left_arr index\n",
    "    j=0 #right_arr index   \n",
    "    arr=[]\n",
    "    len1=len(left_arr)\n",
    "    len2=len(right_arr)\n",
    "    while i<len1 and j<len2:\n",
    "        if left_arr[i]<right_arr[j]:\n",
    "            arr.append(left_arr[i])\n",
    "            i+=1\n",
    "        else:\n",
    "            arr.append(right_arr[j])\n",
    "            j+=1\n",
    "\n",
    "    while i<len1:\n",
    "        arr.append(left_arr[i])\n",
    "        i+=1\n",
    "    \n",
    "    \n",
    "    while j<len2:\n",
    "        arr.append(right_arr[j])\n",
    "        j+=1\n",
    "    return arr\n",
    "\n",
    "\n",
    "left_arr=[2,3,4,5]\n",
    "right_arr=[7,8,9,10]\n",
    "merge_sort(left_arr,right_arr)\n",
    "\n",
    "        \n",
    "            "
   ]
  },
  {
   "cell_type": "markdown",
   "id": "7027907d",
   "metadata": {},
   "source": [
    "Q.3.)Implement Quick Sort"
   ]
  },
  {
   "cell_type": "code",
   "execution_count": 15,
   "id": "9001a0ec",
   "metadata": {},
   "outputs": [
    {
     "name": "stdout",
     "output_type": "stream",
     "text": [
      "[1, 3, 4, 5, 6, 7, 9, 45]\n"
     ]
    }
   ],
   "source": [
    "def partition(A,l,r):\n",
    "    x=A[l]\n",
    "    j=l\n",
    "    for i in range(l+1,r):\n",
    "        if A[i]<=x:\n",
    "            j+=1\n",
    "            A[j],A[i]=A[i],A[j]\n",
    "    A[l],A[j]=A[j],A[l]\n",
    "    return j\n",
    "\n",
    "def quick_sort(A,l,r):\n",
    "    if l>=r:\n",
    "        return\n",
    "    m=partition(A,l,r)\n",
    "    quick_sort(A,l,m-1)\n",
    "    quick_sort(A,m+1,r)\n",
    "    \n",
    "    \n",
    "A=[1,7,9,4,5,6,3,45]\n",
    "quick_sort(A,0,len(A)-1)\n",
    "partition(A,0,len(A))\n",
    "print(A)"
   ]
  },
  {
   "cell_type": "markdown",
   "id": "d4ba1064",
   "metadata": {},
   "source": [
    "Q.4)Implement Insertion Sort"
   ]
  },
  {
   "cell_type": "code",
   "execution_count": 3,
   "id": "288fb8a0",
   "metadata": {},
   "outputs": [
    {
     "name": "stdout",
     "output_type": "stream",
     "text": [
      "j --> 0\n",
      "[7, 8, 2, 5, 64, 35, 3, 1]\n",
      "\n",
      "j --> 1\n",
      "[7, 2, 8, 5, 64, 35, 3, 1]\n",
      "\n",
      "j --> 0\n",
      "[2, 7, 8, 5, 64, 35, 3, 1]\n",
      "\n",
      "j --> 2\n",
      "[2, 7, 5, 8, 64, 35, 3, 1]\n",
      "\n",
      "j --> 1\n",
      "[2, 5, 7, 8, 64, 35, 3, 1]\n",
      "\n",
      "j --> 4\n",
      "[2, 5, 7, 8, 35, 64, 3, 1]\n",
      "\n",
      "j --> 5\n",
      "[2, 5, 7, 8, 35, 3, 64, 1]\n",
      "\n",
      "j --> 4\n",
      "[2, 5, 7, 8, 3, 35, 64, 1]\n",
      "\n",
      "j --> 3\n",
      "[2, 5, 7, 3, 8, 35, 64, 1]\n",
      "\n",
      "j --> 2\n",
      "[2, 5, 3, 7, 8, 35, 64, 1]\n",
      "\n",
      "j --> 1\n",
      "[2, 3, 5, 7, 8, 35, 64, 1]\n",
      "\n",
      "j --> 6\n",
      "[2, 3, 5, 7, 8, 35, 1, 64]\n",
      "\n",
      "j --> 5\n",
      "[2, 3, 5, 7, 8, 1, 35, 64]\n",
      "\n",
      "j --> 4\n",
      "[2, 3, 5, 7, 1, 8, 35, 64]\n",
      "\n",
      "j --> 3\n",
      "[2, 3, 5, 1, 7, 8, 35, 64]\n",
      "\n",
      "j --> 2\n",
      "[2, 3, 1, 5, 7, 8, 35, 64]\n",
      "\n",
      "j --> 1\n",
      "[2, 1, 3, 5, 7, 8, 35, 64]\n",
      "\n",
      "j --> 0\n",
      "[1, 2, 3, 5, 7, 8, 35, 64]\n",
      "\n",
      "Final sorted array: [1, 2, 3, 5, 7, 8, 35, 64]\n"
     ]
    }
   ],
   "source": [
    "def insertion_sort(arr):\n",
    "    for i in range(1,n):\n",
    "        j=i\n",
    "        while arr[j-1]>arr[j] and j>0:\n",
    "            arr[j-1],arr[j]=arr[j],arr[j-1]\n",
    "            j=j-1\n",
    "            print(\"j\",\"-->\",j)\n",
    "            print(arr)\n",
    "            print()\n",
    "\n",
    "arr=[8,7,2,5,64,35,3,1]\n",
    "n=len(arr)\n",
    "insertion_sort(arr)\n",
    "print(\"Final sorted array:\",arr)"
   ]
  },
  {
   "cell_type": "markdown",
   "id": "a8e808ea",
   "metadata": {},
   "source": [
    "Q.5)Write a program to sort list of strings (similar to that of dictionary)"
   ]
  },
  {
   "cell_type": "code",
   "execution_count": 11,
   "id": "e1090418",
   "metadata": {},
   "outputs": [
    {
     "name": "stdout",
     "output_type": "stream",
     "text": [
      "['DSA', 'MySQL', 'Python', 'Data Wrangling', 'Machine learning']\n"
     ]
    }
   ],
   "source": [
    "l = [\"Python\",\"DSA\",\"MySQL\",\"Data Wrangling\",\"Machine learning\"]\n",
    "l.sort(key=len)\n",
    "print(l)\n"
   ]
  }
 ],
 "metadata": {
  "kernelspec": {
   "display_name": "Python 3 (ipykernel)",
   "language": "python",
   "name": "python3"
  },
  "language_info": {
   "codemirror_mode": {
    "name": "ipython",
    "version": 3
   },
   "file_extension": ".py",
   "mimetype": "text/x-python",
   "name": "python",
   "nbconvert_exporter": "python",
   "pygments_lexer": "ipython3",
   "version": "3.10.1"
  }
 },
 "nbformat": 4,
 "nbformat_minor": 5
}
